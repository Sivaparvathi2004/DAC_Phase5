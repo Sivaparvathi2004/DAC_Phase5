{
 "cells": [
  {
   "cell_type": "code",
   "execution_count": 2,
   "id": "9e486ee8",
   "metadata": {},
   "outputs": [],
   "source": [
    "import pandas as pd\n",
    "import matplotlib.pyplot as plt\n",
    "import seaborn as sns\n",
    "from datetime import datetime\n",
    "data=pd.read_csv(\"C:\\\\Users\\\\raghu\\\\OneDrive\\\\Documents\\\\statsfinal.csv\")"
   ]
  },
  {
   "cell_type": "code",
   "execution_count": 3,
   "id": "154d5f94",
   "metadata": {},
   "outputs": [
    {
     "data": {
      "text/html": [
       "<div>\n",
       "<style scoped>\n",
       "    .dataframe tbody tr th:only-of-type {\n",
       "        vertical-align: middle;\n",
       "    }\n",
       "\n",
       "    .dataframe tbody tr th {\n",
       "        vertical-align: top;\n",
       "    }\n",
       "\n",
       "    .dataframe thead th {\n",
       "        text-align: right;\n",
       "    }\n",
       "</style>\n",
       "<table border=\"1\" class=\"dataframe\">\n",
       "  <thead>\n",
       "    <tr style=\"text-align: right;\">\n",
       "      <th></th>\n",
       "      <th>Unnamed: 0</th>\n",
       "      <th>Date</th>\n",
       "      <th>Q-P1</th>\n",
       "      <th>Q-P2</th>\n",
       "      <th>Q-P3</th>\n",
       "      <th>Q-P4</th>\n",
       "      <th>S-P1</th>\n",
       "      <th>S-P2</th>\n",
       "      <th>S-P3</th>\n",
       "      <th>S-P4</th>\n",
       "    </tr>\n",
       "  </thead>\n",
       "  <tbody>\n",
       "    <tr>\n",
       "      <th>0</th>\n",
       "      <td>0</td>\n",
       "      <td>13-06-2010</td>\n",
       "      <td>5422</td>\n",
       "      <td>3725</td>\n",
       "      <td>576</td>\n",
       "      <td>907</td>\n",
       "      <td>17187.74</td>\n",
       "      <td>23616.50</td>\n",
       "      <td>3121.92</td>\n",
       "      <td>6466.91</td>\n",
       "    </tr>\n",
       "    <tr>\n",
       "      <th>1</th>\n",
       "      <td>1</td>\n",
       "      <td>14-06-2010</td>\n",
       "      <td>7047</td>\n",
       "      <td>779</td>\n",
       "      <td>3578</td>\n",
       "      <td>1574</td>\n",
       "      <td>22338.99</td>\n",
       "      <td>4938.86</td>\n",
       "      <td>19392.76</td>\n",
       "      <td>11222.62</td>\n",
       "    </tr>\n",
       "    <tr>\n",
       "      <th>2</th>\n",
       "      <td>2</td>\n",
       "      <td>15-06-2010</td>\n",
       "      <td>1572</td>\n",
       "      <td>2082</td>\n",
       "      <td>595</td>\n",
       "      <td>1145</td>\n",
       "      <td>4983.24</td>\n",
       "      <td>13199.88</td>\n",
       "      <td>3224.90</td>\n",
       "      <td>8163.85</td>\n",
       "    </tr>\n",
       "    <tr>\n",
       "      <th>3</th>\n",
       "      <td>3</td>\n",
       "      <td>16-06-2010</td>\n",
       "      <td>5657</td>\n",
       "      <td>2399</td>\n",
       "      <td>3140</td>\n",
       "      <td>1672</td>\n",
       "      <td>17932.69</td>\n",
       "      <td>15209.66</td>\n",
       "      <td>17018.80</td>\n",
       "      <td>11921.36</td>\n",
       "    </tr>\n",
       "    <tr>\n",
       "      <th>4</th>\n",
       "      <td>4</td>\n",
       "      <td>17-06-2010</td>\n",
       "      <td>3668</td>\n",
       "      <td>3207</td>\n",
       "      <td>2184</td>\n",
       "      <td>708</td>\n",
       "      <td>11627.56</td>\n",
       "      <td>20332.38</td>\n",
       "      <td>11837.28</td>\n",
       "      <td>5048.04</td>\n",
       "    </tr>\n",
       "  </tbody>\n",
       "</table>\n",
       "</div>"
      ],
      "text/plain": [
       "   Unnamed: 0        Date  Q-P1  Q-P2  Q-P3  Q-P4      S-P1      S-P2  \\\n",
       "0           0  13-06-2010  5422  3725   576   907  17187.74  23616.50   \n",
       "1           1  14-06-2010  7047   779  3578  1574  22338.99   4938.86   \n",
       "2           2  15-06-2010  1572  2082   595  1145   4983.24  13199.88   \n",
       "3           3  16-06-2010  5657  2399  3140  1672  17932.69  15209.66   \n",
       "4           4  17-06-2010  3668  3207  2184   708  11627.56  20332.38   \n",
       "\n",
       "       S-P3      S-P4  \n",
       "0   3121.92   6466.91  \n",
       "1  19392.76  11222.62  \n",
       "2   3224.90   8163.85  \n",
       "3  17018.80  11921.36  \n",
       "4  11837.28   5048.04  "
      ]
     },
     "execution_count": 3,
     "metadata": {},
     "output_type": "execute_result"
    }
   ],
   "source": [
    "data.head()"
   ]
  },
  {
   "cell_type": "code",
   "execution_count": 3,
   "id": "497ad3ed",
   "metadata": {},
   "outputs": [
    {
     "data": {
      "text/plain": [
       "(4600, 10)"
      ]
     },
     "execution_count": 3,
     "metadata": {},
     "output_type": "execute_result"
    }
   ],
   "source": [
    "data.shape"
   ]
  },
  {
   "cell_type": "code",
   "execution_count": 4,
   "id": "79ed61bd",
   "metadata": {},
   "outputs": [
    {
     "data": {
      "text/plain": [
       "Unnamed: 0    0\n",
       "Date          0\n",
       "Q-P1          0\n",
       "Q-P2          0\n",
       "Q-P3          0\n",
       "Q-P4          0\n",
       "S-P1          0\n",
       "S-P2          0\n",
       "S-P3          0\n",
       "S-P4          0\n",
       "dtype: int64"
      ]
     },
     "execution_count": 4,
     "metadata": {},
     "output_type": "execute_result"
    }
   ],
   "source": [
    "data.isnull().sum()"
   ]
  },
  {
   "cell_type": "code",
   "execution_count": 9,
   "id": "e8c8e469",
   "metadata": {
    "scrolled": true
   },
   "outputs": [
    {
     "data": {
      "text/html": [
       "<div>\n",
       "<style scoped>\n",
       "    .dataframe tbody tr th:only-of-type {\n",
       "        vertical-align: middle;\n",
       "    }\n",
       "\n",
       "    .dataframe tbody tr th {\n",
       "        vertical-align: top;\n",
       "    }\n",
       "\n",
       "    .dataframe thead th {\n",
       "        text-align: right;\n",
       "    }\n",
       "</style>\n",
       "<table border=\"1\" class=\"dataframe\">\n",
       "  <thead>\n",
       "    <tr style=\"text-align: right;\">\n",
       "      <th></th>\n",
       "      <th>Q-P1</th>\n",
       "    </tr>\n",
       "    <tr>\n",
       "      <th>S-P1</th>\n",
       "      <th></th>\n",
       "    </tr>\n",
       "  </thead>\n",
       "  <tbody>\n",
       "    <tr>\n",
       "      <th>25353.66</th>\n",
       "      <td>7998</td>\n",
       "    </tr>\n",
       "    <tr>\n",
       "      <th>25347.32</th>\n",
       "      <td>7996</td>\n",
       "    </tr>\n",
       "    <tr>\n",
       "      <th>25340.98</th>\n",
       "      <td>15988</td>\n",
       "    </tr>\n",
       "    <tr>\n",
       "      <th>25334.64</th>\n",
       "      <td>7992</td>\n",
       "    </tr>\n",
       "    <tr>\n",
       "      <th>25328.30</th>\n",
       "      <td>15980</td>\n",
       "    </tr>\n",
       "    <tr>\n",
       "      <th>25321.96</th>\n",
       "      <td>7988</td>\n",
       "    </tr>\n",
       "    <tr>\n",
       "      <th>25318.79</th>\n",
       "      <td>7987</td>\n",
       "    </tr>\n",
       "    <tr>\n",
       "      <th>25312.45</th>\n",
       "      <td>15970</td>\n",
       "    </tr>\n",
       "    <tr>\n",
       "      <th>25302.94</th>\n",
       "      <td>7982</td>\n",
       "    </tr>\n",
       "    <tr>\n",
       "      <th>25293.43</th>\n",
       "      <td>15958</td>\n",
       "    </tr>\n",
       "  </tbody>\n",
       "</table>\n",
       "</div>"
      ],
      "text/plain": [
       "           Q-P1\n",
       "S-P1           \n",
       "25353.66   7998\n",
       "25347.32   7996\n",
       "25340.98  15988\n",
       "25334.64   7992\n",
       "25328.30  15980\n",
       "25321.96   7988\n",
       "25318.79   7987\n",
       "25312.45  15970\n",
       "25302.94   7982\n",
       "25293.43  15958"
      ]
     },
     "execution_count": 9,
     "metadata": {},
     "output_type": "execute_result"
    }
   ],
   "source": [
    "productSales = pd.DataFrame(data.groupby('S-P1').sum()['Q-P1'])\n",
    "productSales.sort_values(by=['S-P1'], inplace=True, ascending=False)\n",
    "productSales.head(10)"
   ]
  },
  {
   "cell_type": "code",
   "execution_count": 11,
   "id": "27aecd26",
   "metadata": {},
   "outputs": [
    {
     "data": {
      "text/plain": [
       "(array([0, 1, 2, 3, 4, 5, 6, 7, 8, 9]),\n",
       " [Text(0, 0, '7982'),\n",
       "  Text(1, 0, '7987'),\n",
       "  Text(2, 0, '7988'),\n",
       "  Text(3, 0, '7992'),\n",
       "  Text(4, 0, '7996'),\n",
       "  Text(5, 0, '7998'),\n",
       "  Text(6, 0, '15958'),\n",
       "  Text(7, 0, '15970'),\n",
       "  Text(8, 0, '15980'),\n",
       "  Text(9, 0, '15988')])"
      ]
     },
     "execution_count": 11,
     "metadata": {},
     "output_type": "execute_result"
    },
    {
     "data": {
      "image/png": "[encoded data removed]",
      "text/plain": [
       "<Figure size 640x480 with 1 Axes>"
      ]
     },
     "metadata": {},
     "output_type": "display_data"
    }
   ],
   "source": [
    "sns.barplot(x='Q-P1',y='S-P1',data=productSales.head(10).reset_index())\n",
    "plt.xticks(rotation = 'vertical')"
   ]
  },
  {
   "cell_type": "code",
   "execution_count": 13,
   "id": "a78c87b6",
   "metadata": {},
   "outputs": [
    {
     "data": {
      "text/html": [
       "<div>\n",
       "<style scoped>\n",
       "    .dataframe tbody tr th:only-of-type {\n",
       "        vertical-align: middle;\n",
       "    }\n",
       "\n",
       "    .dataframe tbody tr th {\n",
       "        vertical-align: top;\n",
       "    }\n",
       "\n",
       "    .dataframe thead th {\n",
       "        text-align: right;\n",
       "    }\n",
       "</style>\n",
       "<table border=\"1\" class=\"dataframe\">\n",
       "  <thead>\n",
       "    <tr style=\"text-align: right;\">\n",
       "      <th></th>\n",
       "      <th>Q-P2</th>\n",
       "    </tr>\n",
       "    <tr>\n",
       "      <th>S-P2</th>\n",
       "      <th></th>\n",
       "    </tr>\n",
       "  </thead>\n",
       "  <tbody>\n",
       "    <tr>\n",
       "      <th>25169.80</th>\n",
       "      <td>23820</td>\n",
       "    </tr>\n",
       "    <tr>\n",
       "      <th>25150.78</th>\n",
       "      <td>23802</td>\n",
       "    </tr>\n",
       "    <tr>\n",
       "      <th>23229.76</th>\n",
       "      <td>21984</td>\n",
       "    </tr>\n",
       "    <tr>\n",
       "      <th>24833.78</th>\n",
       "      <td>19585</td>\n",
       "    </tr>\n",
       "    <tr>\n",
       "      <th>24111.02</th>\n",
       "      <td>19015</td>\n",
       "    </tr>\n",
       "    <tr>\n",
       "      <th>...</th>\n",
       "      <td>...</td>\n",
       "    </tr>\n",
       "    <tr>\n",
       "      <th>1667.42</th>\n",
       "      <td>263</td>\n",
       "    </tr>\n",
       "    <tr>\n",
       "      <th>1648.40</th>\n",
       "      <td>260</td>\n",
       "    </tr>\n",
       "    <tr>\n",
       "      <th>1635.72</th>\n",
       "      <td>258</td>\n",
       "    </tr>\n",
       "    <tr>\n",
       "      <th>1629.38</th>\n",
       "      <td>257</td>\n",
       "    </tr>\n",
       "    <tr>\n",
       "      <th>1591.34</th>\n",
       "      <td>251</td>\n",
       "    </tr>\n",
       "  </tbody>\n",
       "</table>\n",
       "<p>2667 rows × 1 columns</p>\n",
       "</div>"
      ],
      "text/plain": [
       "           Q-P2\n",
       "S-P2           \n",
       "25169.80  23820\n",
       "25150.78  23802\n",
       "23229.76  21984\n",
       "24833.78  19585\n",
       "24111.02  19015\n",
       "...         ...\n",
       "1667.42     263\n",
       "1648.40     260\n",
       "1635.72     258\n",
       "1629.38     257\n",
       "1591.34     251\n",
       "\n",
       "[2667 rows x 1 columns]"
      ]
     },
     "execution_count": 13,
     "metadata": {},
     "output_type": "execute_result"
    }
   ],
   "source": [
    "profitable_category = pd.DataFrame(data.groupby(['S-P2']).sum()['Q-P2'])\n",
    "profitable_category.sort_values(by=['Q-P2'], inplace = True, ascending = False)\n",
    "profitable_category"
   ]
  },
  {
   "cell_type": "code",
   "execution_count": 16,
   "id": "f2d3edd3",
   "metadata": {},
   "outputs": [
    {
     "data": {
      "image/png": "[encoded data removed]",
      "text/plain": [
       "<Figure size 1700x500 with 1 Axes>"
      ]
     },
     "metadata": {},
     "output_type": "display_data"
    }
   ],
   "source": [
    "plt.figure(figsize=(17, 5))\n",
    "plt.bar(data['Q-P2'],data['S-P2'],color = 'b')\n",
    "plt.xticks(size=8)\n",
    "plt.show()"
   ]
  },
  {
   "cell_type": "code",
   "execution_count": 17,
   "id": "13c86d4e",
   "metadata": {},
   "outputs": [
    {
     "data": {
      "text/html": [
       "<div>\n",
       "<style scoped>\n",
       "    .dataframe tbody tr th:only-of-type {\n",
       "        vertical-align: middle;\n",
       "    }\n",
       "\n",
       "    .dataframe tbody tr th {\n",
       "        vertical-align: top;\n",
       "    }\n",
       "\n",
       "    .dataframe thead th {\n",
       "        text-align: right;\n",
       "    }\n",
       "</style>\n",
       "<table border=\"1\" class=\"dataframe\">\n",
       "  <thead>\n",
       "    <tr style=\"text-align: right;\">\n",
       "      <th></th>\n",
       "      <th>S-P4</th>\n",
       "    </tr>\n",
       "    <tr>\n",
       "      <th>Q-P4</th>\n",
       "      <th></th>\n",
       "    </tr>\n",
       "  </thead>\n",
       "  <tbody>\n",
       "    <tr>\n",
       "      <th>1747</th>\n",
       "      <td>99648.88</td>\n",
       "    </tr>\n",
       "    <tr>\n",
       "      <th>1910</th>\n",
       "      <td>95328.10</td>\n",
       "    </tr>\n",
       "    <tr>\n",
       "      <th>1568</th>\n",
       "      <td>89438.72</td>\n",
       "    </tr>\n",
       "    <tr>\n",
       "      <th>1737</th>\n",
       "      <td>86693.67</td>\n",
       "    </tr>\n",
       "    <tr>\n",
       "      <th>1942</th>\n",
       "      <td>83078.76</td>\n",
       "    </tr>\n",
       "    <tr>\n",
       "      <th>...</th>\n",
       "      <td>...</td>\n",
       "    </tr>\n",
       "    <tr>\n",
       "      <th>284</th>\n",
       "      <td>2024.92</td>\n",
       "    </tr>\n",
       "    <tr>\n",
       "      <th>282</th>\n",
       "      <td>2010.66</td>\n",
       "    </tr>\n",
       "    <tr>\n",
       "      <th>280</th>\n",
       "      <td>1996.40</td>\n",
       "    </tr>\n",
       "    <tr>\n",
       "      <th>256</th>\n",
       "      <td>1825.28</td>\n",
       "    </tr>\n",
       "    <tr>\n",
       "      <th>250</th>\n",
       "      <td>1782.50</td>\n",
       "    </tr>\n",
       "  </tbody>\n",
       "</table>\n",
       "<p>1631 rows × 1 columns</p>\n",
       "</div>"
      ],
      "text/plain": [
       "          S-P4\n",
       "Q-P4          \n",
       "1747  99648.88\n",
       "1910  95328.10\n",
       "1568  89438.72\n",
       "1737  86693.67\n",
       "1942  83078.76\n",
       "...        ...\n",
       "284    2024.92\n",
       "282    2010.66\n",
       "280    1996.40\n",
       "256    1825.28\n",
       "250    1782.50\n",
       "\n",
       "[1631 rows x 1 columns]"
      ]
     },
     "execution_count": 17,
     "metadata": {},
     "output_type": "execute_result"
    }
   ],
   "source": [
    "profitable_segment = pd.DataFrame(data.groupby(['Q-P4']).sum()['S-P4'])\n",
    "profitable_segment.sort_values(by=['S-P4'], inplace = True, ascending = False)\n",
    "profitable_segment"
   ]
  },
  {
   "cell_type": "code",
   "execution_count": 17,
   "id": "dbaa16e3",
   "metadata": {},
   "outputs": [
    {
     "data": {
      "text/html": [
       "<div>\n",
       "<style scoped>\n",
       "    .dataframe tbody tr th:only-of-type {\n",
       "        vertical-align: middle;\n",
       "    }\n",
       "\n",
       "    .dataframe tbody tr th {\n",
       "        vertical-align: top;\n",
       "    }\n",
       "\n",
       "    .dataframe thead th {\n",
       "        text-align: right;\n",
       "    }\n",
       "</style>\n",
       "<table border=\"1\" class=\"dataframe\">\n",
       "  <thead>\n",
       "    <tr style=\"text-align: right;\">\n",
       "      <th></th>\n",
       "      <th>S-P4</th>\n",
       "    </tr>\n",
       "    <tr>\n",
       "      <th>Q-P4</th>\n",
       "      <th></th>\n",
       "    </tr>\n",
       "  </thead>\n",
       "  <tbody>\n",
       "    <tr>\n",
       "      <th>1747</th>\n",
       "      <td>99648.88</td>\n",
       "    </tr>\n",
       "    <tr>\n",
       "      <th>1910</th>\n",
       "      <td>95328.10</td>\n",
       "    </tr>\n",
       "    <tr>\n",
       "      <th>1568</th>\n",
       "      <td>89438.72</td>\n",
       "    </tr>\n",
       "    <tr>\n",
       "      <th>1737</th>\n",
       "      <td>86693.67</td>\n",
       "    </tr>\n",
       "    <tr>\n",
       "      <th>1942</th>\n",
       "      <td>83078.76</td>\n",
       "    </tr>\n",
       "    <tr>\n",
       "      <th>...</th>\n",
       "      <td>...</td>\n",
       "    </tr>\n",
       "    <tr>\n",
       "      <th>284</th>\n",
       "      <td>2024.92</td>\n",
       "    </tr>\n",
       "    <tr>\n",
       "      <th>282</th>\n",
       "      <td>2010.66</td>\n",
       "    </tr>\n",
       "    <tr>\n",
       "      <th>280</th>\n",
       "      <td>1996.40</td>\n",
       "    </tr>\n",
       "    <tr>\n",
       "      <th>256</th>\n",
       "      <td>1825.28</td>\n",
       "    </tr>\n",
       "    <tr>\n",
       "      <th>250</th>\n",
       "      <td>1782.50</td>\n",
       "    </tr>\n",
       "  </tbody>\n",
       "</table>\n",
       "<p>1631 rows × 1 columns</p>\n",
       "</div>"
      ],
      "text/plain": [
       "          S-P4\n",
       "Q-P4          \n",
       "1747  99648.88\n",
       "1910  95328.10\n",
       "1568  89438.72\n",
       "1737  86693.67\n",
       "1942  83078.76\n",
       "...        ...\n",
       "284    2024.92\n",
       "282    2010.66\n",
       "280    1996.40\n",
       "256    1825.28\n",
       "250    1782.50\n",
       "\n",
       "[1631 rows x 1 columns]"
      ]
     },
     "execution_count": 17,
     "metadata": {},
     "output_type": "execute_result"
    }
   ],
   "source": [
    "profitable_segment = pd.DataFrame(data.groupby(['Q-P4']).sum()['S-P4'])\n",
    "profitable_segment.sort_values(by=['S-P4'], inplace = True, ascending = False)\n",
    "profitable_segment"
   ]
  },
  {
   "cell_type": "code",
   "execution_count": 24,
   "id": "9f6d4289",
   "metadata": {},
   "outputs": [
    {
     "data": {
      "image/png": "[encoded data removed]",
      "text/plain": [
       "<Figure size 1400x600 with 1 Axes>"
      ]
     },
     "metadata": {},
     "output_type": "display_data"
    }
   ],
   "source": [
    "plt.figure(figsize=(14, 6))\n",
    "plt.bar(data['Q-P3'],data['S-P3'],color = 'b')\n",
    "plt.xticks(rotation='vertical', size=8)\n",
    "plt.show()"
   ]
  },
  {
   "cell_type": "code",
   "execution_count": null,
   "id": "e7d72272",
   "metadata": {},
   "outputs": [],
   "source": []
  },
  {
   "cell_type": "code",
   "execution_count": null,
   "id": "ccd320d2",
   "metadata": {},
   "outputs": [],
   "source": []
  }
 ],
 "metadata": {
  "kernelspec": {
   "display_name": "Python 3 (ipykernel)",
   "language": "python",
   "name": "python3"
  },
  "language_info": {
   "codemirror_mode": {
    "name": "ipython",
    "version": 3
   },
   "file_extension": ".py",
   "mimetype": "text/x-python",
   "name": "python",
   "nbconvert_exporter": "python",
   "pygments_lexer": "ipython3",
   "version": "3.11.5"
  }
 },
 "nbformat": 4,
 "nbformat_minor": 5
}
